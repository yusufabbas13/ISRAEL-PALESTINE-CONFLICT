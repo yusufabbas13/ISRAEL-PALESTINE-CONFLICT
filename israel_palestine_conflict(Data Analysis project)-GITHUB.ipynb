{
 "cells": [
  {
   "cell_type": "code",
   "execution_count": 1,
   "id": "f348ef0d",
   "metadata": {},
   "outputs": [],
   "source": [
    "import numpy as np\n",
    "import pandas as pd\n",
    "import matplotlib.pyplot as plt\n",
    "import statsmodels.api as sm\n",
    "import seaborn\n",
    "seaborn.set_theme(context='notebook', style='darkgrid',palette='deep',font='sans serif',font_scale=1,color_codes=True,rc=None)\n"
   ]
  },
  {
   "cell_type": "code",
   "execution_count": 2,
   "id": "dc38e8a0",
   "metadata": {},
   "outputs": [],
   "source": [
    "import warnings\n",
    "warnings.filterwarnings(\"ignore\")"
   ]
  },
  {
   "cell_type": "code",
   "execution_count": 3,
   "id": "a9b3c60c",
   "metadata": {
    "scrolled": true
   },
   "outputs": [
    {
     "data": {
      "text/html": [
       "<div>\n",
       "<style scoped>\n",
       "    .dataframe tbody tr th:only-of-type {\n",
       "        vertical-align: middle;\n",
       "    }\n",
       "\n",
       "    .dataframe tbody tr th {\n",
       "        vertical-align: top;\n",
       "    }\n",
       "\n",
       "    .dataframe thead th {\n",
       "        text-align: right;\n",
       "    }\n",
       "</style>\n",
       "<table border=\"1\" class=\"dataframe\">\n",
       "  <thead>\n",
       "    <tr style=\"text-align: right;\">\n",
       "      <th></th>\n",
       "      <th>Year</th>\n",
       "      <th>Month</th>\n",
       "      <th>Palestinians Injuries</th>\n",
       "      <th>Israelis Injuries</th>\n",
       "      <th>Palestinians Killed</th>\n",
       "      <th>Israelis Killed</th>\n",
       "    </tr>\n",
       "  </thead>\n",
       "  <tbody>\n",
       "    <tr>\n",
       "      <th>0</th>\n",
       "      <td>2000</td>\n",
       "      <td>DECEMBER</td>\n",
       "      <td>781</td>\n",
       "      <td>NaN</td>\n",
       "      <td>51</td>\n",
       "      <td>8</td>\n",
       "    </tr>\n",
       "    <tr>\n",
       "      <th>1</th>\n",
       "      <td>2000</td>\n",
       "      <td>NOVEMBER</td>\n",
       "      <td>3838</td>\n",
       "      <td>NaN</td>\n",
       "      <td>112</td>\n",
       "      <td>22</td>\n",
       "    </tr>\n",
       "    <tr>\n",
       "      <th>2</th>\n",
       "      <td>2000</td>\n",
       "      <td>OCTOBER</td>\n",
       "      <td>5984</td>\n",
       "      <td>NaN</td>\n",
       "      <td>104</td>\n",
       "      <td>10</td>\n",
       "    </tr>\n",
       "    <tr>\n",
       "      <th>3</th>\n",
       "      <td>2000</td>\n",
       "      <td>SEPTEMBER</td>\n",
       "      <td>NaN</td>\n",
       "      <td>NaN</td>\n",
       "      <td>16</td>\n",
       "      <td>1</td>\n",
       "    </tr>\n",
       "    <tr>\n",
       "      <th>4</th>\n",
       "      <td>2001</td>\n",
       "      <td>DECEMBER</td>\n",
       "      <td>304</td>\n",
       "      <td>NaN</td>\n",
       "      <td>67</td>\n",
       "      <td>36</td>\n",
       "    </tr>\n",
       "  </tbody>\n",
       "</table>\n",
       "</div>"
      ],
      "text/plain": [
       "   Year      Month Palestinians Injuries Israelis Injuries  \\\n",
       "0  2000   DECEMBER                   781               NaN   \n",
       "1  2000   NOVEMBER                  3838               NaN   \n",
       "2  2000    OCTOBER                  5984               NaN   \n",
       "3  2000  SEPTEMBER                   NaN               NaN   \n",
       "4  2001   DECEMBER                   304               NaN   \n",
       "\n",
       "   Palestinians Killed  Israelis Killed  \n",
       "0                   51                8  \n",
       "1                  112               22  \n",
       "2                  104               10  \n",
       "3                   16                1  \n",
       "4                   67               36  "
      ]
     },
     "execution_count": 3,
     "metadata": {},
     "output_type": "execute_result"
    }
   ],
   "source": [
    "data = pd.read_csv(\"D:\\Downloads & Documents\\\\israel_palestine_conflict.csv\")\n",
    "data.head()"
   ]
  },
  {
   "cell_type": "code",
   "execution_count": 4,
   "id": "7488b3bd",
   "metadata": {},
   "outputs": [],
   "source": [
    "data.set_index(\"Year\", inplace=True)"
   ]
  },
  {
   "cell_type": "code",
   "execution_count": 5,
   "id": "c4fc5e25",
   "metadata": {
    "scrolled": false
   },
   "outputs": [
    {
     "data": {
      "text/html": [
       "<div>\n",
       "<style scoped>\n",
       "    .dataframe tbody tr th:only-of-type {\n",
       "        vertical-align: middle;\n",
       "    }\n",
       "\n",
       "    .dataframe tbody tr th {\n",
       "        vertical-align: top;\n",
       "    }\n",
       "\n",
       "    .dataframe thead th {\n",
       "        text-align: right;\n",
       "    }\n",
       "</style>\n",
       "<table border=\"1\" class=\"dataframe\">\n",
       "  <thead>\n",
       "    <tr style=\"text-align: right;\">\n",
       "      <th></th>\n",
       "      <th>Month</th>\n",
       "      <th>Palestinians Injuries</th>\n",
       "      <th>Israelis Injuries</th>\n",
       "      <th>Palestinians Killed</th>\n",
       "      <th>Israelis Killed</th>\n",
       "    </tr>\n",
       "    <tr>\n",
       "      <th>Year</th>\n",
       "      <th></th>\n",
       "      <th></th>\n",
       "      <th></th>\n",
       "      <th></th>\n",
       "      <th></th>\n",
       "    </tr>\n",
       "  </thead>\n",
       "  <tbody>\n",
       "    <tr>\n",
       "      <th>2021</th>\n",
       "      <td>JANUARY</td>\n",
       "      <td>NaN</td>\n",
       "      <td>NaN</td>\n",
       "      <td>4</td>\n",
       "      <td>0</td>\n",
       "    </tr>\n",
       "    <tr>\n",
       "      <th>2021</th>\n",
       "      <td>FEBRUARY</td>\n",
       "      <td>NaN</td>\n",
       "      <td>NaN</td>\n",
       "      <td>1</td>\n",
       "      <td>0</td>\n",
       "    </tr>\n",
       "    <tr>\n",
       "      <th>2021</th>\n",
       "      <td>MARCH</td>\n",
       "      <td>NaN</td>\n",
       "      <td>NaN</td>\n",
       "      <td>4</td>\n",
       "      <td>0</td>\n",
       "    </tr>\n",
       "    <tr>\n",
       "      <th>2021</th>\n",
       "      <td>APRIL</td>\n",
       "      <td>NaN</td>\n",
       "      <td>NaN</td>\n",
       "      <td>1</td>\n",
       "      <td>0</td>\n",
       "    </tr>\n",
       "    <tr>\n",
       "      <th>2021</th>\n",
       "      <td>MAY</td>\n",
       "      <td>NaN</td>\n",
       "      <td>NaN</td>\n",
       "      <td>26</td>\n",
       "      <td>3</td>\n",
       "    </tr>\n",
       "  </tbody>\n",
       "</table>\n",
       "</div>"
      ],
      "text/plain": [
       "         Month Palestinians Injuries Israelis Injuries  Palestinians Killed  \\\n",
       "Year                                                                          \n",
       "2021   JANUARY                   NaN               NaN                    4   \n",
       "2021  FEBRUARY                   NaN               NaN                    1   \n",
       "2021     MARCH                   NaN               NaN                    4   \n",
       "2021     APRIL                   NaN               NaN                    1   \n",
       "2021       MAY                   NaN               NaN                   26   \n",
       "\n",
       "      Israelis Killed  \n",
       "Year                   \n",
       "2021                0  \n",
       "2021                0  \n",
       "2021                0  \n",
       "2021                0  \n",
       "2021                3  "
      ]
     },
     "execution_count": 5,
     "metadata": {},
     "output_type": "execute_result"
    }
   ],
   "source": [
    "data.tail()"
   ]
  },
  {
   "cell_type": "code",
   "execution_count": 6,
   "id": "dac506c1",
   "metadata": {
    "scrolled": true
   },
   "outputs": [
    {
     "data": {
      "text/html": [
       "<div>\n",
       "<style scoped>\n",
       "    .dataframe tbody tr th:only-of-type {\n",
       "        vertical-align: middle;\n",
       "    }\n",
       "\n",
       "    .dataframe tbody tr th {\n",
       "        vertical-align: top;\n",
       "    }\n",
       "\n",
       "    .dataframe thead th {\n",
       "        text-align: right;\n",
       "    }\n",
       "</style>\n",
       "<table border=\"1\" class=\"dataframe\">\n",
       "  <thead>\n",
       "    <tr style=\"text-align: right;\">\n",
       "      <th></th>\n",
       "      <th>Palestinians Killed</th>\n",
       "      <th>Israelis Killed</th>\n",
       "    </tr>\n",
       "  </thead>\n",
       "  <tbody>\n",
       "    <tr>\n",
       "      <th>count</th>\n",
       "      <td>249.000000</td>\n",
       "      <td>249.000000</td>\n",
       "    </tr>\n",
       "    <tr>\n",
       "      <th>mean</th>\n",
       "      <td>40.160643</td>\n",
       "      <td>5.120482</td>\n",
       "    </tr>\n",
       "    <tr>\n",
       "      <th>std</th>\n",
       "      <td>129.148851</td>\n",
       "      <td>11.653323</td>\n",
       "    </tr>\n",
       "    <tr>\n",
       "      <th>min</th>\n",
       "      <td>0.000000</td>\n",
       "      <td>0.000000</td>\n",
       "    </tr>\n",
       "    <tr>\n",
       "      <th>25%</th>\n",
       "      <td>4.000000</td>\n",
       "      <td>0.000000</td>\n",
       "    </tr>\n",
       "    <tr>\n",
       "      <th>50%</th>\n",
       "      <td>12.000000</td>\n",
       "      <td>1.000000</td>\n",
       "    </tr>\n",
       "    <tr>\n",
       "      <th>75%</th>\n",
       "      <td>37.000000</td>\n",
       "      <td>5.000000</td>\n",
       "    </tr>\n",
       "    <tr>\n",
       "      <th>max</th>\n",
       "      <td>1590.000000</td>\n",
       "      <td>122.000000</td>\n",
       "    </tr>\n",
       "  </tbody>\n",
       "</table>\n",
       "</div>"
      ],
      "text/plain": [
       "       Palestinians Killed  Israelis Killed\n",
       "count           249.000000       249.000000\n",
       "mean             40.160643         5.120482\n",
       "std             129.148851        11.653323\n",
       "min               0.000000         0.000000\n",
       "25%               4.000000         0.000000\n",
       "50%              12.000000         1.000000\n",
       "75%              37.000000         5.000000\n",
       "max            1590.000000       122.000000"
      ]
     },
     "execution_count": 6,
     "metadata": {},
     "output_type": "execute_result"
    }
   ],
   "source": [
    "data.describe()"
   ]
  },
  {
   "cell_type": "markdown",
   "id": "e9ab65f9",
   "metadata": {},
   "source": [
    "From the above statistical information it is clear that the palestinians have been subjected to more atrocities than the israelis. \n",
    "The mean is higher for the palestinians as well due to this reason. The average number of people who have been killed over the course of the past 20 years have been more.\n",
    "The standard deviation is higher for the palestinians showing more variation which indicates that the amount of people killed per year is highly variable.\n",
    "25% which is the 1st quartile value is 4 which indicates that in 25% of the years fewer than 4 palestinians have been killed.\n",
    "50% indicates that half of the years had 12 or fewers palistinians killed.\n",
    "The 75% is the 3rd quartile which indicates that in about 25% of the years fewer than 12 palestines were killed.\n",
    "Max and Min death values have been given for both nations."
   ]
  },
  {
   "cell_type": "code",
   "execution_count": 7,
   "id": "350967ab",
   "metadata": {},
   "outputs": [
    {
     "data": {
      "text/plain": [
       "(249, 5)"
      ]
     },
     "execution_count": 7,
     "metadata": {},
     "output_type": "execute_result"
    }
   ],
   "source": [
    "# 249 rows and 6 columns is the shape of the table\n",
    "data.shape"
   ]
  },
  {
   "cell_type": "code",
   "execution_count": 8,
   "id": "507c6ff1",
   "metadata": {},
   "outputs": [
    {
     "data": {
      "text/plain": [
       "Index(['Month', 'Palestinians Injuries', 'Israelis Injuries',\n",
       "       'Palestinians Killed', 'Israelis Killed'],\n",
       "      dtype='object')"
      ]
     },
     "execution_count": 8,
     "metadata": {},
     "output_type": "execute_result"
    }
   ],
   "source": [
    "data.columns"
   ]
  },
  {
   "cell_type": "code",
   "execution_count": 9,
   "id": "93c6d1a5",
   "metadata": {
    "scrolled": true
   },
   "outputs": [
    {
     "data": {
      "text/plain": [
       "Month                      0\n",
       "Palestinians Injuries     54\n",
       "Israelis Injuries        117\n",
       "Palestinians Killed        0\n",
       "Israelis Killed            0\n",
       "dtype: int64"
      ]
     },
     "execution_count": 9,
     "metadata": {},
     "output_type": "execute_result"
    }
   ],
   "source": [
    "data.isnull().sum()"
   ]
  },
  {
   "cell_type": "code",
   "execution_count": 10,
   "id": "777dabce",
   "metadata": {},
   "outputs": [],
   "source": [
    "data = data.fillna({\"Palestinians Injuries\":\"0\", \"Israelis Injuries\":\"0\"})"
   ]
  },
  {
   "cell_type": "code",
   "execution_count": 11,
   "id": "7a5e8040",
   "metadata": {},
   "outputs": [
    {
     "name": "stdout",
     "output_type": "stream",
     "text": [
      "<class 'pandas.core.frame.DataFrame'>\n",
      "Int64Index: 249 entries, 2000 to 2021\n",
      "Data columns (total 5 columns):\n",
      " #   Column                 Non-Null Count  Dtype \n",
      "---  ------                 --------------  ----- \n",
      " 0   Month                  249 non-null    object\n",
      " 1   Palestinians Injuries  249 non-null    object\n",
      " 2   Israelis Injuries      249 non-null    object\n",
      " 3   Palestinians Killed    249 non-null    int64 \n",
      " 4   Israelis Killed        249 non-null    int64 \n",
      "dtypes: int64(2), object(3)\n",
      "memory usage: 11.7+ KB\n"
     ]
    }
   ],
   "source": [
    "data.info()"
   ]
  },
  {
   "cell_type": "code",
   "execution_count": 12,
   "id": "435050de",
   "metadata": {},
   "outputs": [],
   "source": [
    "# So, the code is essentially cleaning and converting certain columns in your DataFrame from string representations \n",
    "# of numbers (with commas) to actual numeric values,\n",
    "# handling any non-numeric values by setting them to NaN.\n",
    "# This is a common preprocessing step when working with data containing numeric information..\n",
    " \n",
    "numerical_columns = ['Palestinians Injuries', 'Israelis Injuries', 'Palestinians Killed' , 'Israelis Killed']\n",
    "data[numerical_columns] = data[numerical_columns].replace({\",\", \" \"}, regex=True)\n",
    "data[numerical_columns] = data[numerical_columns].apply(pd.to_numeric, errors='coerce')"
   ]
  },
  {
   "cell_type": "markdown",
   "id": "94026321",
   "metadata": {},
   "source": [
    "Now we will add a few more columns namely total incidents, palestinian fatality rate and israeli fatality rate."
   ]
  },
  {
   "cell_type": "code",
   "execution_count": 13,
   "id": "bb1b4431",
   "metadata": {},
   "outputs": [],
   "source": [
    "data['Total Incidents'] = data['Palestinians Injuries'] + data['Israelis Injuries'] + data['Palestinians Killed'] + data['Israelis Killed']\n",
    "data['Palestinian fatality rate'] = data['Palestinians Killed']/data['Total Incidents']\n",
    "data['Israeli fatality rate'] = data['Israelis Killed']/data['Total Incidents']"
   ]
  },
  {
   "cell_type": "code",
   "execution_count": 14,
   "id": "185c696f",
   "metadata": {},
   "outputs": [],
   "source": [
    "Total_incidents = data['Total Incidents'].sum()\n",
    "total_palestinian_incidents = (data['Palestinians Injuries'] + data['Palestinians Killed']).sum()\n",
    "total_israeli_incidents = (data['Israelis Injuries'] + data['Israelis Killed']).sum()\n",
    "palestinian_proportion = total_palestinian_incidents/Total_incidents\n",
    "israeli_proportion = total_israeli_incidents/Total_incidents"
   ]
  },
  {
   "cell_type": "code",
   "execution_count": 15,
   "id": "147066f6",
   "metadata": {
    "scrolled": false
   },
   "outputs": [
    {
     "data": {
      "text/html": [
       "<div>\n",
       "<style scoped>\n",
       "    .dataframe tbody tr th:only-of-type {\n",
       "        vertical-align: middle;\n",
       "    }\n",
       "\n",
       "    .dataframe tbody tr th {\n",
       "        vertical-align: top;\n",
       "    }\n",
       "\n",
       "    .dataframe thead th {\n",
       "        text-align: right;\n",
       "    }\n",
       "</style>\n",
       "<table border=\"1\" class=\"dataframe\">\n",
       "  <thead>\n",
       "    <tr style=\"text-align: right;\">\n",
       "      <th></th>\n",
       "      <th>Month</th>\n",
       "      <th>Palestinians Injuries</th>\n",
       "      <th>Israelis Injuries</th>\n",
       "      <th>Palestinians Killed</th>\n",
       "      <th>Israelis Killed</th>\n",
       "      <th>Total Incidents</th>\n",
       "      <th>Palestinian fatality rate</th>\n",
       "      <th>Israeli fatality rate</th>\n",
       "    </tr>\n",
       "    <tr>\n",
       "      <th>Year</th>\n",
       "      <th></th>\n",
       "      <th></th>\n",
       "      <th></th>\n",
       "      <th></th>\n",
       "      <th></th>\n",
       "      <th></th>\n",
       "      <th></th>\n",
       "      <th></th>\n",
       "    </tr>\n",
       "  </thead>\n",
       "  <tbody>\n",
       "    <tr>\n",
       "      <th>2000</th>\n",
       "      <td>DECEMBER</td>\n",
       "      <td>781.0</td>\n",
       "      <td>0.0</td>\n",
       "      <td>51</td>\n",
       "      <td>8</td>\n",
       "      <td>840.0</td>\n",
       "      <td>0.060714</td>\n",
       "      <td>0.009524</td>\n",
       "    </tr>\n",
       "    <tr>\n",
       "      <th>2000</th>\n",
       "      <td>NOVEMBER</td>\n",
       "      <td>3838.0</td>\n",
       "      <td>0.0</td>\n",
       "      <td>112</td>\n",
       "      <td>22</td>\n",
       "      <td>3972.0</td>\n",
       "      <td>0.028197</td>\n",
       "      <td>0.005539</td>\n",
       "    </tr>\n",
       "    <tr>\n",
       "      <th>2000</th>\n",
       "      <td>OCTOBER</td>\n",
       "      <td>5984.0</td>\n",
       "      <td>0.0</td>\n",
       "      <td>104</td>\n",
       "      <td>10</td>\n",
       "      <td>6098.0</td>\n",
       "      <td>0.017055</td>\n",
       "      <td>0.001640</td>\n",
       "    </tr>\n",
       "    <tr>\n",
       "      <th>2000</th>\n",
       "      <td>SEPTEMBER</td>\n",
       "      <td>0.0</td>\n",
       "      <td>0.0</td>\n",
       "      <td>16</td>\n",
       "      <td>1</td>\n",
       "      <td>17.0</td>\n",
       "      <td>0.941176</td>\n",
       "      <td>0.058824</td>\n",
       "    </tr>\n",
       "    <tr>\n",
       "      <th>2001</th>\n",
       "      <td>DECEMBER</td>\n",
       "      <td>304.0</td>\n",
       "      <td>0.0</td>\n",
       "      <td>67</td>\n",
       "      <td>36</td>\n",
       "      <td>407.0</td>\n",
       "      <td>0.164619</td>\n",
       "      <td>0.088452</td>\n",
       "    </tr>\n",
       "    <tr>\n",
       "      <th>...</th>\n",
       "      <td>...</td>\n",
       "      <td>...</td>\n",
       "      <td>...</td>\n",
       "      <td>...</td>\n",
       "      <td>...</td>\n",
       "      <td>...</td>\n",
       "      <td>...</td>\n",
       "      <td>...</td>\n",
       "    </tr>\n",
       "    <tr>\n",
       "      <th>2021</th>\n",
       "      <td>JANUARY</td>\n",
       "      <td>0.0</td>\n",
       "      <td>0.0</td>\n",
       "      <td>4</td>\n",
       "      <td>0</td>\n",
       "      <td>4.0</td>\n",
       "      <td>1.000000</td>\n",
       "      <td>0.000000</td>\n",
       "    </tr>\n",
       "    <tr>\n",
       "      <th>2021</th>\n",
       "      <td>FEBRUARY</td>\n",
       "      <td>0.0</td>\n",
       "      <td>0.0</td>\n",
       "      <td>1</td>\n",
       "      <td>0</td>\n",
       "      <td>1.0</td>\n",
       "      <td>1.000000</td>\n",
       "      <td>0.000000</td>\n",
       "    </tr>\n",
       "    <tr>\n",
       "      <th>2021</th>\n",
       "      <td>MARCH</td>\n",
       "      <td>0.0</td>\n",
       "      <td>0.0</td>\n",
       "      <td>4</td>\n",
       "      <td>0</td>\n",
       "      <td>4.0</td>\n",
       "      <td>1.000000</td>\n",
       "      <td>0.000000</td>\n",
       "    </tr>\n",
       "    <tr>\n",
       "      <th>2021</th>\n",
       "      <td>APRIL</td>\n",
       "      <td>0.0</td>\n",
       "      <td>0.0</td>\n",
       "      <td>1</td>\n",
       "      <td>0</td>\n",
       "      <td>1.0</td>\n",
       "      <td>1.000000</td>\n",
       "      <td>0.000000</td>\n",
       "    </tr>\n",
       "    <tr>\n",
       "      <th>2021</th>\n",
       "      <td>MAY</td>\n",
       "      <td>0.0</td>\n",
       "      <td>0.0</td>\n",
       "      <td>26</td>\n",
       "      <td>3</td>\n",
       "      <td>29.0</td>\n",
       "      <td>0.896552</td>\n",
       "      <td>0.103448</td>\n",
       "    </tr>\n",
       "  </tbody>\n",
       "</table>\n",
       "<p>249 rows × 8 columns</p>\n",
       "</div>"
      ],
      "text/plain": [
       "          Month  Palestinians Injuries  Israelis Injuries  \\\n",
       "Year                                                        \n",
       "2000   DECEMBER                  781.0                0.0   \n",
       "2000   NOVEMBER                 3838.0                0.0   \n",
       "2000    OCTOBER                 5984.0                0.0   \n",
       "2000  SEPTEMBER                    0.0                0.0   \n",
       "2001   DECEMBER                  304.0                0.0   \n",
       "...         ...                    ...                ...   \n",
       "2021    JANUARY                    0.0                0.0   \n",
       "2021   FEBRUARY                    0.0                0.0   \n",
       "2021      MARCH                    0.0                0.0   \n",
       "2021      APRIL                    0.0                0.0   \n",
       "2021        MAY                    0.0                0.0   \n",
       "\n",
       "      Palestinians Killed  Israelis Killed  Total Incidents  \\\n",
       "Year                                                          \n",
       "2000                   51                8            840.0   \n",
       "2000                  112               22           3972.0   \n",
       "2000                  104               10           6098.0   \n",
       "2000                   16                1             17.0   \n",
       "2001                   67               36            407.0   \n",
       "...                   ...              ...              ...   \n",
       "2021                    4                0              4.0   \n",
       "2021                    1                0              1.0   \n",
       "2021                    4                0              4.0   \n",
       "2021                    1                0              1.0   \n",
       "2021                   26                3             29.0   \n",
       "\n",
       "      Palestinian fatality rate  Israeli fatality rate  \n",
       "Year                                                    \n",
       "2000                   0.060714               0.009524  \n",
       "2000                   0.028197               0.005539  \n",
       "2000                   0.017055               0.001640  \n",
       "2000                   0.941176               0.058824  \n",
       "2001                   0.164619               0.088452  \n",
       "...                         ...                    ...  \n",
       "2021                   1.000000               0.000000  \n",
       "2021                   1.000000               0.000000  \n",
       "2021                   1.000000               0.000000  \n",
       "2021                   1.000000               0.000000  \n",
       "2021                   0.896552               0.103448  \n",
       "\n",
       "[249 rows x 8 columns]"
      ]
     },
     "execution_count": 15,
     "metadata": {},
     "output_type": "execute_result"
    }
   ],
   "source": [
    "data"
   ]
  },
  {
   "cell_type": "code",
   "execution_count": 16,
   "id": "165404ae",
   "metadata": {
    "scrolled": true
   },
   "outputs": [
    {
     "data": {
      "text/plain": [
       "Month                        0\n",
       "Palestinians Injuries        2\n",
       "Israelis Injuries            2\n",
       "Palestinians Killed          0\n",
       "Israelis Killed              0\n",
       "Total Incidents              2\n",
       "Palestinian fatality rate    2\n",
       "Israeli fatality rate        2\n",
       "dtype: int64"
      ]
     },
     "execution_count": 16,
     "metadata": {},
     "output_type": "execute_result"
    }
   ],
   "source": [
    "data.isnull().sum()"
   ]
  },
  {
   "cell_type": "code",
   "execution_count": 17,
   "id": "9598bdb6",
   "metadata": {},
   "outputs": [
    {
     "data": {
      "text/plain": [
       "Month                        0\n",
       "Palestinians Injuries        0\n",
       "Israelis Injuries            0\n",
       "Palestinians Killed          0\n",
       "Israelis Killed              0\n",
       "Total Incidents              0\n",
       "Palestinian fatality rate    0\n",
       "Israeli fatality rate        0\n",
       "dtype: int64"
      ]
     },
     "execution_count": 17,
     "metadata": {},
     "output_type": "execute_result"
    }
   ],
   "source": [
    "data =  data.fillna({\"Total Incidents\":0, \"Palestinians Injuries\":0, \"Israelis Injuries\":0, \"Palestinian fatality rate\":0, \"Israeli fatality rate\":0})\n",
    "data.isnull().sum()"
   ]
  },
  {
   "cell_type": "markdown",
   "id": "36718636",
   "metadata": {},
   "source": [
    "NOW WE GROUP THE PALESTINIAN AND ISRAELI INCIDENTS AND FATALITY RATES TO MAKE A COMPARISON. After the grouping of data we have observed that the majority or rather most of the casualties have been within the palestinian borders. There have been very few injuries and deaths in israel which we can clearly discern from the fatality rates of both regions. We have also grouped this data based on year and month. On the basis of year the following years have faced the most incidents. 2000,2007,2014 and 2015 out of which 2014 has been the most lethal year till 2021. When it comes to months the following months on avg have the most number of incidents. August, december, november and october out of which december has been the most lethal month on an avg."
   ]
  },
  {
   "cell_type": "code",
   "execution_count": 18,
   "id": "037ee25b",
   "metadata": {
    "scrolled": false
   },
   "outputs": [
    {
     "data": {
      "text/html": [
       "<div>\n",
       "<style scoped>\n",
       "    .dataframe tbody tr th:only-of-type {\n",
       "        vertical-align: middle;\n",
       "    }\n",
       "\n",
       "    .dataframe tbody tr th {\n",
       "        vertical-align: top;\n",
       "    }\n",
       "\n",
       "    .dataframe thead th {\n",
       "        text-align: right;\n",
       "    }\n",
       "</style>\n",
       "<table border=\"1\" class=\"dataframe\">\n",
       "  <thead>\n",
       "    <tr style=\"text-align: right;\">\n",
       "      <th></th>\n",
       "      <th>TOTAL_INCIDENTS</th>\n",
       "      <th>AVG_FATALITY_RATE</th>\n",
       "    </tr>\n",
       "  </thead>\n",
       "  <tbody>\n",
       "    <tr>\n",
       "      <th>0</th>\n",
       "      <td>119879.0</td>\n",
       "      <td>0.260522</td>\n",
       "    </tr>\n",
       "  </tbody>\n",
       "</table>\n",
       "</div>"
      ],
      "text/plain": [
       "   TOTAL_INCIDENTS  AVG_FATALITY_RATE\n",
       "0         119879.0           0.260522"
      ]
     },
     "execution_count": 18,
     "metadata": {},
     "output_type": "execute_result"
    }
   ],
   "source": [
    "avg_pal_fatality_rate = np.mean(data['Palestinian fatality rate'])\n",
    "palestinian_grouped_data = pd.DataFrame({'TOTAL_INCIDENTS': [total_palestinian_incidents],\n",
    "                                         'AVG_FATALITY_RATE':[avg_pal_fatality_rate]})\n",
    "palestinian_grouped_data"
   ]
  },
  {
   "cell_type": "code",
   "execution_count": 19,
   "id": "fb31a594",
   "metadata": {
    "scrolled": true
   },
   "outputs": [
    {
     "data": {
      "text/html": [
       "<div>\n",
       "<style scoped>\n",
       "    .dataframe tbody tr th:only-of-type {\n",
       "        vertical-align: middle;\n",
       "    }\n",
       "\n",
       "    .dataframe tbody tr th {\n",
       "        vertical-align: top;\n",
       "    }\n",
       "\n",
       "    .dataframe thead th {\n",
       "        text-align: right;\n",
       "    }\n",
       "</style>\n",
       "<table border=\"1\" class=\"dataframe\">\n",
       "  <thead>\n",
       "    <tr style=\"text-align: right;\">\n",
       "      <th></th>\n",
       "      <th>TOTAL_INCIDENTS</th>\n",
       "      <th>AVG_FATALITY_RATE</th>\n",
       "    </tr>\n",
       "  </thead>\n",
       "  <tbody>\n",
       "    <tr>\n",
       "      <th>0</th>\n",
       "      <td>6376.0</td>\n",
       "      <td>0.029285</td>\n",
       "    </tr>\n",
       "  </tbody>\n",
       "</table>\n",
       "</div>"
      ],
      "text/plain": [
       "   TOTAL_INCIDENTS  AVG_FATALITY_RATE\n",
       "0           6376.0           0.029285"
      ]
     },
     "execution_count": 19,
     "metadata": {},
     "output_type": "execute_result"
    }
   ],
   "source": [
    "avg_isr_fatality_rate = np.mean(data['Israeli fatality rate'])\n",
    "Israeli_grouped_data = pd.DataFrame({'TOTAL_INCIDENTS': [total_israeli_incidents],\n",
    "                                     'AVG_FATALITY_RATE':[avg_isr_fatality_rate]})\n",
    "Israeli_grouped_data"
   ]
  },
  {
   "cell_type": "code",
   "execution_count": 20,
   "id": "6c89e778",
   "metadata": {},
   "outputs": [
    {
     "data": {
      "text/html": [
       "<div>\n",
       "<style scoped>\n",
       "    .dataframe tbody tr th:only-of-type {\n",
       "        vertical-align: middle;\n",
       "    }\n",
       "\n",
       "    .dataframe tbody tr th {\n",
       "        vertical-align: top;\n",
       "    }\n",
       "\n",
       "    .dataframe thead th {\n",
       "        text-align: right;\n",
       "    }\n",
       "</style>\n",
       "<table border=\"1\" class=\"dataframe\">\n",
       "  <thead>\n",
       "    <tr style=\"text-align: right;\">\n",
       "      <th></th>\n",
       "      <th>Total Incidents</th>\n",
       "      <th>Palestinians Injuries</th>\n",
       "      <th>Palestinians Killed</th>\n",
       "      <th>Israelis Injuries</th>\n",
       "      <th>Israelis Killed</th>\n",
       "    </tr>\n",
       "    <tr>\n",
       "      <th>Year</th>\n",
       "      <th></th>\n",
       "      <th></th>\n",
       "      <th></th>\n",
       "      <th></th>\n",
       "      <th></th>\n",
       "    </tr>\n",
       "  </thead>\n",
       "  <tbody>\n",
       "    <tr>\n",
       "      <th>2000</th>\n",
       "      <td>2731.750000</td>\n",
       "      <td>2650.750000</td>\n",
       "      <td>70.750000</td>\n",
       "      <td>0.000000</td>\n",
       "      <td>10.250000</td>\n",
       "    </tr>\n",
       "    <tr>\n",
       "      <th>2001</th>\n",
       "      <td>587.333333</td>\n",
       "      <td>532.166667</td>\n",
       "      <td>39.166667</td>\n",
       "      <td>0.000000</td>\n",
       "      <td>16.000000</td>\n",
       "    </tr>\n",
       "    <tr>\n",
       "      <th>2002</th>\n",
       "      <td>486.083333</td>\n",
       "      <td>365.166667</td>\n",
       "      <td>86.000000</td>\n",
       "      <td>0.000000</td>\n",
       "      <td>34.916667</td>\n",
       "    </tr>\n",
       "    <tr>\n",
       "      <th>2003</th>\n",
       "      <td>313.750000</td>\n",
       "      <td>249.333333</td>\n",
       "      <td>49.000000</td>\n",
       "      <td>0.000000</td>\n",
       "      <td>15.416667</td>\n",
       "    </tr>\n",
       "    <tr>\n",
       "      <th>2004</th>\n",
       "      <td>408.250000</td>\n",
       "      <td>334.083333</td>\n",
       "      <td>65.500000</td>\n",
       "      <td>0.000000</td>\n",
       "      <td>8.666667</td>\n",
       "    </tr>\n",
       "    <tr>\n",
       "      <th>2005</th>\n",
       "      <td>176.583333</td>\n",
       "      <td>115.416667</td>\n",
       "      <td>15.833333</td>\n",
       "      <td>41.083333</td>\n",
       "      <td>4.250000</td>\n",
       "    </tr>\n",
       "    <tr>\n",
       "      <th>2006</th>\n",
       "      <td>355.083333</td>\n",
       "      <td>266.583333</td>\n",
       "      <td>55.416667</td>\n",
       "      <td>31.416667</td>\n",
       "      <td>1.666667</td>\n",
       "    </tr>\n",
       "    <tr>\n",
       "      <th>2007</th>\n",
       "      <td>1345.416667</td>\n",
       "      <td>1285.500000</td>\n",
       "      <td>32.083333</td>\n",
       "      <td>26.833333</td>\n",
       "      <td>1.000000</td>\n",
       "    </tr>\n",
       "    <tr>\n",
       "      <th>2008</th>\n",
       "      <td>77.083333</td>\n",
       "      <td>0.000000</td>\n",
       "      <td>73.833333</td>\n",
       "      <td>0.000000</td>\n",
       "      <td>3.250000</td>\n",
       "    </tr>\n",
       "    <tr>\n",
       "      <th>2009</th>\n",
       "      <td>626.333333</td>\n",
       "      <td>539.250000</td>\n",
       "      <td>86.333333</td>\n",
       "      <td>0.000000</td>\n",
       "      <td>0.750000</td>\n",
       "    </tr>\n",
       "    <tr>\n",
       "      <th>2010</th>\n",
       "      <td>150.500000</td>\n",
       "      <td>128.250000</td>\n",
       "      <td>6.833333</td>\n",
       "      <td>14.666667</td>\n",
       "      <td>0.750000</td>\n",
       "    </tr>\n",
       "    <tr>\n",
       "      <th>2011</th>\n",
       "      <td>196.750000</td>\n",
       "      <td>175.833333</td>\n",
       "      <td>9.750000</td>\n",
       "      <td>10.333333</td>\n",
       "      <td>0.833333</td>\n",
       "    </tr>\n",
       "    <tr>\n",
       "      <th>2012</th>\n",
       "      <td>458.416667</td>\n",
       "      <td>407.833333</td>\n",
       "      <td>21.250000</td>\n",
       "      <td>28.750000</td>\n",
       "      <td>0.583333</td>\n",
       "    </tr>\n",
       "    <tr>\n",
       "      <th>2013</th>\n",
       "      <td>346.583333</td>\n",
       "      <td>330.333333</td>\n",
       "      <td>3.166667</td>\n",
       "      <td>12.583333</td>\n",
       "      <td>0.500000</td>\n",
       "    </tr>\n",
       "    <tr>\n",
       "      <th>2014</th>\n",
       "      <td>1698.250000</td>\n",
       "      <td>1427.083333</td>\n",
       "      <td>189.916667</td>\n",
       "      <td>211.583333</td>\n",
       "      <td>7.083333</td>\n",
       "    </tr>\n",
       "    <tr>\n",
       "      <th>2015</th>\n",
       "      <td>1332.750000</td>\n",
       "      <td>1289.750000</td>\n",
       "      <td>15.666667</td>\n",
       "      <td>25.333333</td>\n",
       "      <td>2.000000</td>\n",
       "    </tr>\n",
       "    <tr>\n",
       "      <th>2016</th>\n",
       "      <td>310.583333</td>\n",
       "      <td>285.750000</td>\n",
       "      <td>9.583333</td>\n",
       "      <td>14.250000</td>\n",
       "      <td>1.000000</td>\n",
       "    </tr>\n",
       "    <tr>\n",
       "      <th>2017</th>\n",
       "      <td>695.916667</td>\n",
       "      <td>673.666667</td>\n",
       "      <td>8.000000</td>\n",
       "      <td>13.166667</td>\n",
       "      <td>1.583333</td>\n",
       "    </tr>\n",
       "    <tr>\n",
       "      <th>2018</th>\n",
       "      <td>25.333333</td>\n",
       "      <td>0.000000</td>\n",
       "      <td>24.166667</td>\n",
       "      <td>0.000000</td>\n",
       "      <td>1.166667</td>\n",
       "    </tr>\n",
       "    <tr>\n",
       "      <th>2019</th>\n",
       "      <td>13.333333</td>\n",
       "      <td>0.000000</td>\n",
       "      <td>12.416667</td>\n",
       "      <td>0.000000</td>\n",
       "      <td>0.916667</td>\n",
       "    </tr>\n",
       "    <tr>\n",
       "      <th>2020</th>\n",
       "      <td>3.083333</td>\n",
       "      <td>0.000000</td>\n",
       "      <td>2.833333</td>\n",
       "      <td>0.000000</td>\n",
       "      <td>0.250000</td>\n",
       "    </tr>\n",
       "    <tr>\n",
       "      <th>2021</th>\n",
       "      <td>7.800000</td>\n",
       "      <td>0.000000</td>\n",
       "      <td>7.200000</td>\n",
       "      <td>0.000000</td>\n",
       "      <td>0.600000</td>\n",
       "    </tr>\n",
       "  </tbody>\n",
       "</table>\n",
       "</div>"
      ],
      "text/plain": [
       "      Total Incidents  Palestinians Injuries  Palestinians Killed  \\\n",
       "Year                                                                \n",
       "2000      2731.750000            2650.750000            70.750000   \n",
       "2001       587.333333             532.166667            39.166667   \n",
       "2002       486.083333             365.166667            86.000000   \n",
       "2003       313.750000             249.333333            49.000000   \n",
       "2004       408.250000             334.083333            65.500000   \n",
       "2005       176.583333             115.416667            15.833333   \n",
       "2006       355.083333             266.583333            55.416667   \n",
       "2007      1345.416667            1285.500000            32.083333   \n",
       "2008        77.083333               0.000000            73.833333   \n",
       "2009       626.333333             539.250000            86.333333   \n",
       "2010       150.500000             128.250000             6.833333   \n",
       "2011       196.750000             175.833333             9.750000   \n",
       "2012       458.416667             407.833333            21.250000   \n",
       "2013       346.583333             330.333333             3.166667   \n",
       "2014      1698.250000            1427.083333           189.916667   \n",
       "2015      1332.750000            1289.750000            15.666667   \n",
       "2016       310.583333             285.750000             9.583333   \n",
       "2017       695.916667             673.666667             8.000000   \n",
       "2018        25.333333               0.000000            24.166667   \n",
       "2019        13.333333               0.000000            12.416667   \n",
       "2020         3.083333               0.000000             2.833333   \n",
       "2021         7.800000               0.000000             7.200000   \n",
       "\n",
       "      Israelis Injuries  Israelis Killed  \n",
       "Year                                      \n",
       "2000           0.000000        10.250000  \n",
       "2001           0.000000        16.000000  \n",
       "2002           0.000000        34.916667  \n",
       "2003           0.000000        15.416667  \n",
       "2004           0.000000         8.666667  \n",
       "2005          41.083333         4.250000  \n",
       "2006          31.416667         1.666667  \n",
       "2007          26.833333         1.000000  \n",
       "2008           0.000000         3.250000  \n",
       "2009           0.000000         0.750000  \n",
       "2010          14.666667         0.750000  \n",
       "2011          10.333333         0.833333  \n",
       "2012          28.750000         0.583333  \n",
       "2013          12.583333         0.500000  \n",
       "2014         211.583333         7.083333  \n",
       "2015          25.333333         2.000000  \n",
       "2016          14.250000         1.000000  \n",
       "2017          13.166667         1.583333  \n",
       "2018           0.000000         1.166667  \n",
       "2019           0.000000         0.916667  \n",
       "2020           0.000000         0.250000  \n",
       "2021           0.000000         0.600000  "
      ]
     },
     "execution_count": 20,
     "metadata": {},
     "output_type": "execute_result"
    }
   ],
   "source": [
    "yearly_data = data.groupby('Year')[['Total Incidents', 'Palestinians Injuries', 'Palestinians Killed', 'Israelis Injuries', 'Israelis Killed']].mean()\n",
    "yearly_data"
   ]
  },
  {
   "cell_type": "code",
   "execution_count": 21,
   "id": "2ad71e2c",
   "metadata": {},
   "outputs": [
    {
     "data": {
      "text/html": [
       "<div>\n",
       "<style scoped>\n",
       "    .dataframe tbody tr th:only-of-type {\n",
       "        vertical-align: middle;\n",
       "    }\n",
       "\n",
       "    .dataframe tbody tr th {\n",
       "        vertical-align: top;\n",
       "    }\n",
       "\n",
       "    .dataframe thead th {\n",
       "        text-align: right;\n",
       "    }\n",
       "</style>\n",
       "<table border=\"1\" class=\"dataframe\">\n",
       "  <thead>\n",
       "    <tr style=\"text-align: right;\">\n",
       "      <th></th>\n",
       "      <th>Total Incidents</th>\n",
       "      <th>Palestinians Injuries</th>\n",
       "      <th>Palestinians Killed</th>\n",
       "      <th>Israelis Injuries</th>\n",
       "      <th>Israelis Killed</th>\n",
       "    </tr>\n",
       "    <tr>\n",
       "      <th>Month</th>\n",
       "      <th></th>\n",
       "      <th></th>\n",
       "      <th></th>\n",
       "      <th></th>\n",
       "      <th></th>\n",
       "    </tr>\n",
       "  </thead>\n",
       "  <tbody>\n",
       "    <tr>\n",
       "      <th>APRIL</th>\n",
       "      <td>266.095238</td>\n",
       "      <td>222.523810</td>\n",
       "      <td>28.809524</td>\n",
       "      <td>10.761905</td>\n",
       "      <td>4.000000</td>\n",
       "    </tr>\n",
       "    <tr>\n",
       "      <th>AUGUST</th>\n",
       "      <td>1010.550000</td>\n",
       "      <td>831.100000</td>\n",
       "      <td>49.500000</td>\n",
       "      <td>124.800000</td>\n",
       "      <td>5.150000</td>\n",
       "    </tr>\n",
       "    <tr>\n",
       "      <th>DECEMBER</th>\n",
       "      <td>1194.952381</td>\n",
       "      <td>1135.047619</td>\n",
       "      <td>45.000000</td>\n",
       "      <td>10.809524</td>\n",
       "      <td>4.095238</td>\n",
       "    </tr>\n",
       "    <tr>\n",
       "      <th>FEBRUARY</th>\n",
       "      <td>250.333333</td>\n",
       "      <td>214.666667</td>\n",
       "      <td>20.714286</td>\n",
       "      <td>11.333333</td>\n",
       "      <td>3.619048</td>\n",
       "    </tr>\n",
       "    <tr>\n",
       "      <th>JANUARY</th>\n",
       "      <td>493.190476</td>\n",
       "      <td>414.523810</td>\n",
       "      <td>64.857143</td>\n",
       "      <td>9.476190</td>\n",
       "      <td>4.333333</td>\n",
       "    </tr>\n",
       "    <tr>\n",
       "      <th>JULY</th>\n",
       "      <td>276.950000</td>\n",
       "      <td>243.000000</td>\n",
       "      <td>99.450000</td>\n",
       "      <td>10.950000</td>\n",
       "      <td>6.000000</td>\n",
       "    </tr>\n",
       "    <tr>\n",
       "      <th>JUNE</th>\n",
       "      <td>230.100000</td>\n",
       "      <td>195.300000</td>\n",
       "      <td>19.500000</td>\n",
       "      <td>8.450000</td>\n",
       "      <td>6.850000</td>\n",
       "    </tr>\n",
       "    <tr>\n",
       "      <th>MARCH</th>\n",
       "      <td>319.571429</td>\n",
       "      <td>264.190476</td>\n",
       "      <td>34.238095</td>\n",
       "      <td>11.952381</td>\n",
       "      <td>9.190476</td>\n",
       "    </tr>\n",
       "    <tr>\n",
       "      <th>MAY</th>\n",
       "      <td>335.888889</td>\n",
       "      <td>290.444444</td>\n",
       "      <td>29.222222</td>\n",
       "      <td>11.277778</td>\n",
       "      <td>4.944444</td>\n",
       "    </tr>\n",
       "    <tr>\n",
       "      <th>MAY</th>\n",
       "      <td>21.000000</td>\n",
       "      <td>0.000000</td>\n",
       "      <td>18.500000</td>\n",
       "      <td>0.000000</td>\n",
       "      <td>2.500000</td>\n",
       "    </tr>\n",
       "    <tr>\n",
       "      <th>MAY &amp; JUNE</th>\n",
       "      <td>0.000000</td>\n",
       "      <td>0.000000</td>\n",
       "      <td>6.000000</td>\n",
       "      <td>0.000000</td>\n",
       "      <td>0.000000</td>\n",
       "    </tr>\n",
       "    <tr>\n",
       "      <th>NOVEMBER</th>\n",
       "      <td>682.333333</td>\n",
       "      <td>618.714286</td>\n",
       "      <td>37.238095</td>\n",
       "      <td>21.000000</td>\n",
       "      <td>5.380952</td>\n",
       "    </tr>\n",
       "    <tr>\n",
       "      <th>OCTOBER</th>\n",
       "      <td>838.380952</td>\n",
       "      <td>785.619048</td>\n",
       "      <td>36.142857</td>\n",
       "      <td>11.523810</td>\n",
       "      <td>5.095238</td>\n",
       "    </tr>\n",
       "    <tr>\n",
       "      <th>SEPTEMBER</th>\n",
       "      <td>232.047619</td>\n",
       "      <td>195.142857</td>\n",
       "      <td>21.666667</td>\n",
       "      <td>11.857143</td>\n",
       "      <td>3.380952</td>\n",
       "    </tr>\n",
       "  </tbody>\n",
       "</table>\n",
       "</div>"
      ],
      "text/plain": [
       "            Total Incidents  Palestinians Injuries  Palestinians Killed  \\\n",
       "Month                                                                     \n",
       "APRIL            266.095238             222.523810            28.809524   \n",
       "AUGUST          1010.550000             831.100000            49.500000   \n",
       "DECEMBER        1194.952381            1135.047619            45.000000   \n",
       "FEBRUARY         250.333333             214.666667            20.714286   \n",
       "JANUARY          493.190476             414.523810            64.857143   \n",
       "JULY             276.950000             243.000000            99.450000   \n",
       "JUNE             230.100000             195.300000            19.500000   \n",
       "MARCH            319.571429             264.190476            34.238095   \n",
       "MAY              335.888889             290.444444            29.222222   \n",
       "MAY               21.000000               0.000000            18.500000   \n",
       "MAY & JUNE         0.000000               0.000000             6.000000   \n",
       "NOVEMBER         682.333333             618.714286            37.238095   \n",
       "OCTOBER          838.380952             785.619048            36.142857   \n",
       "SEPTEMBER        232.047619             195.142857            21.666667   \n",
       "\n",
       "            Israelis Injuries  Israelis Killed  \n",
       "Month                                           \n",
       "APRIL               10.761905         4.000000  \n",
       "AUGUST             124.800000         5.150000  \n",
       "DECEMBER            10.809524         4.095238  \n",
       "FEBRUARY            11.333333         3.619048  \n",
       "JANUARY              9.476190         4.333333  \n",
       "JULY                10.950000         6.000000  \n",
       "JUNE                 8.450000         6.850000  \n",
       "MARCH               11.952381         9.190476  \n",
       "MAY                 11.277778         4.944444  \n",
       "MAY                  0.000000         2.500000  \n",
       "MAY & JUNE           0.000000         0.000000  \n",
       "NOVEMBER            21.000000         5.380952  \n",
       "OCTOBER             11.523810         5.095238  \n",
       "SEPTEMBER           11.857143         3.380952  "
      ]
     },
     "execution_count": 21,
     "metadata": {},
     "output_type": "execute_result"
    }
   ],
   "source": [
    "monthly_data = data.groupby('Month')[['Total Incidents', 'Palestinians Injuries', 'Palestinians Killed', 'Israelis Injuries', 'Israelis Killed']].mean()\n",
    "monthly_data"
   ]
  },
  {
   "cell_type": "code",
   "execution_count": 22,
   "id": "0c971ceb",
   "metadata": {
    "scrolled": false
   },
   "outputs": [
    {
     "data": {
      "text/html": [
       "<div>\n",
       "<style scoped>\n",
       "    .dataframe tbody tr th:only-of-type {\n",
       "        vertical-align: middle;\n",
       "    }\n",
       "\n",
       "    .dataframe tbody tr th {\n",
       "        vertical-align: top;\n",
       "    }\n",
       "\n",
       "    .dataframe thead th {\n",
       "        text-align: right;\n",
       "    }\n",
       "</style>\n",
       "<table border=\"1\" class=\"dataframe\">\n",
       "  <thead>\n",
       "    <tr style=\"text-align: right;\">\n",
       "      <th></th>\n",
       "      <th></th>\n",
       "      <th>Total Incidents</th>\n",
       "      <th>Palestinians Injuries</th>\n",
       "      <th>Palestinians Killed</th>\n",
       "      <th>Israelis Injuries</th>\n",
       "      <th>Israelis Killed</th>\n",
       "    </tr>\n",
       "    <tr>\n",
       "      <th>Month</th>\n",
       "      <th>Year</th>\n",
       "      <th></th>\n",
       "      <th></th>\n",
       "      <th></th>\n",
       "      <th></th>\n",
       "      <th></th>\n",
       "    </tr>\n",
       "  </thead>\n",
       "  <tbody>\n",
       "    <tr>\n",
       "      <th rowspan=\"5\" valign=\"top\">APRIL</th>\n",
       "      <th>2001</th>\n",
       "      <td>745.0</td>\n",
       "      <td>715.0</td>\n",
       "      <td>23.0</td>\n",
       "      <td>0.0</td>\n",
       "      <td>7.0</td>\n",
       "    </tr>\n",
       "    <tr>\n",
       "      <th>2002</th>\n",
       "      <td>815.0</td>\n",
       "      <td>523.0</td>\n",
       "      <td>246.0</td>\n",
       "      <td>0.0</td>\n",
       "      <td>46.0</td>\n",
       "    </tr>\n",
       "    <tr>\n",
       "      <th>2003</th>\n",
       "      <td>368.0</td>\n",
       "      <td>303.0</td>\n",
       "      <td>59.0</td>\n",
       "      <td>0.0</td>\n",
       "      <td>6.0</td>\n",
       "    </tr>\n",
       "    <tr>\n",
       "      <th>2004</th>\n",
       "      <td>404.0</td>\n",
       "      <td>346.0</td>\n",
       "      <td>55.0</td>\n",
       "      <td>0.0</td>\n",
       "      <td>3.0</td>\n",
       "    </tr>\n",
       "    <tr>\n",
       "      <th>2005</th>\n",
       "      <td>207.0</td>\n",
       "      <td>183.0</td>\n",
       "      <td>5.0</td>\n",
       "      <td>19.0</td>\n",
       "      <td>0.0</td>\n",
       "    </tr>\n",
       "    <tr>\n",
       "      <th>...</th>\n",
       "      <th>...</th>\n",
       "      <td>...</td>\n",
       "      <td>...</td>\n",
       "      <td>...</td>\n",
       "      <td>...</td>\n",
       "      <td>...</td>\n",
       "    </tr>\n",
       "    <tr>\n",
       "      <th rowspan=\"5\" valign=\"top\">SEPTEMBER</th>\n",
       "      <th>2016</th>\n",
       "      <td>235.0</td>\n",
       "      <td>210.0</td>\n",
       "      <td>11.0</td>\n",
       "      <td>14.0</td>\n",
       "      <td>0.0</td>\n",
       "    </tr>\n",
       "    <tr>\n",
       "      <th>2017</th>\n",
       "      <td>128.0</td>\n",
       "      <td>118.0</td>\n",
       "      <td>2.0</td>\n",
       "      <td>5.0</td>\n",
       "      <td>3.0</td>\n",
       "    </tr>\n",
       "    <tr>\n",
       "      <th>2018</th>\n",
       "      <td>26.0</td>\n",
       "      <td>0.0</td>\n",
       "      <td>25.0</td>\n",
       "      <td>0.0</td>\n",
       "      <td>1.0</td>\n",
       "    </tr>\n",
       "    <tr>\n",
       "      <th>2019</th>\n",
       "      <td>6.0</td>\n",
       "      <td>0.0</td>\n",
       "      <td>5.0</td>\n",
       "      <td>0.0</td>\n",
       "      <td>1.0</td>\n",
       "    </tr>\n",
       "    <tr>\n",
       "      <th>2020</th>\n",
       "      <td>1.0</td>\n",
       "      <td>0.0</td>\n",
       "      <td>1.0</td>\n",
       "      <td>0.0</td>\n",
       "      <td>0.0</td>\n",
       "    </tr>\n",
       "  </tbody>\n",
       "</table>\n",
       "<p>249 rows × 5 columns</p>\n",
       "</div>"
      ],
      "text/plain": [
       "                Total Incidents  Palestinians Injuries  Palestinians Killed  \\\n",
       "Month     Year                                                                \n",
       "APRIL     2001            745.0                  715.0                 23.0   \n",
       "          2002            815.0                  523.0                246.0   \n",
       "          2003            368.0                  303.0                 59.0   \n",
       "          2004            404.0                  346.0                 55.0   \n",
       "          2005            207.0                  183.0                  5.0   \n",
       "...                         ...                    ...                  ...   \n",
       "SEPTEMBER 2016            235.0                  210.0                 11.0   \n",
       "          2017            128.0                  118.0                  2.0   \n",
       "          2018             26.0                    0.0                 25.0   \n",
       "          2019              6.0                    0.0                  5.0   \n",
       "          2020              1.0                    0.0                  1.0   \n",
       "\n",
       "                Israelis Injuries  Israelis Killed  \n",
       "Month     Year                                      \n",
       "APRIL     2001                0.0              7.0  \n",
       "          2002                0.0             46.0  \n",
       "          2003                0.0              6.0  \n",
       "          2004                0.0              3.0  \n",
       "          2005               19.0              0.0  \n",
       "...                           ...              ...  \n",
       "SEPTEMBER 2016               14.0              0.0  \n",
       "          2017                5.0              3.0  \n",
       "          2018                0.0              1.0  \n",
       "          2019                0.0              1.0  \n",
       "          2020                0.0              0.0  \n",
       "\n",
       "[249 rows x 5 columns]"
      ]
     },
     "execution_count": 22,
     "metadata": {},
     "output_type": "execute_result"
    }
   ],
   "source": [
    "monthly_yearly_data = data.groupby(['Month','Year'])[['Total Incidents', 'Palestinians Injuries', 'Palestinians Killed', 'Israelis Injuries', 'Israelis Killed']].mean()\n",
    "monthly_yearly_data"
   ]
  },
  {
   "cell_type": "markdown",
   "id": "fa1f1c56",
   "metadata": {},
   "source": [
    "According to the data we have gathered we can tell that 2014 was a lethal year and december is the most lethal month on an average. As for 2014 upon more research I was able to discern that the gaza war started in 2014 precisely on july 8th. it was conducted by the IDF in the gaza strip. The war was started by the continous *alleged* firing of missiles by hamas terrorists in gaza and also the abduction of 3 israeli soldiers by the hamas group. The gaza strip has been under israeli control since 1967 but 2014 was one of the most lethal years with attacks going on constantly for almost 50 days. The war started in july but august was the most lethal month with the injury and death rate being the highest on both sides."
   ]
  },
  {
   "cell_type": "code",
   "execution_count": 23,
   "id": "8f273376",
   "metadata": {
    "scrolled": false
   },
   "outputs": [
    {
     "data": {
      "text/plain": [
       "Total Incidents          16705.0\n",
       "Palestinians Injuries    13735.0\n",
       "Palestinians Killed        614.0\n",
       "Israelis Injuries         2347.0\n",
       "Israelis Killed              9.0\n",
       "Name: (AUGUST, 2014), dtype: float64"
      ]
     },
     "execution_count": 23,
     "metadata": {},
     "output_type": "execute_result"
    }
   ],
   "source": [
    "july_2014_data = monthly_yearly_data.loc[('AUGUST', 2014)]\n",
    "july_2014_data"
   ]
  },
  {
   "cell_type": "code",
   "execution_count": 24,
   "id": "a2d64759",
   "metadata": {},
   "outputs": [
    {
     "data": {
      "text/plain": [
       "'DECEMBER'"
      ]
     },
     "execution_count": 24,
     "metadata": {},
     "output_type": "execute_result"
    }
   ],
   "source": [
    "monthly_data_max = monthly_data['Palestinians Injuries'].idxmax()\n",
    "monthly_data_max"
   ]
  },
  {
   "cell_type": "code",
   "execution_count": 25,
   "id": "49574f13",
   "metadata": {},
   "outputs": [
    {
     "data": {
      "text/plain": [
       "2000"
      ]
     },
     "execution_count": 25,
     "metadata": {},
     "output_type": "execute_result"
    }
   ],
   "source": [
    "# This prints the year which has maximum number of injuries\n",
    "yearly_data_max = yearly_data['Palestinians Injuries'].idxmax()\n",
    "yearly_data_max"
   ]
  },
  {
   "cell_type": "code",
   "execution_count": 26,
   "id": "dccb1437",
   "metadata": {},
   "outputs": [
    {
     "data": {
      "text/plain": [
       "2650.75"
      ]
     },
     "execution_count": 26,
     "metadata": {},
     "output_type": "execute_result"
    }
   ],
   "source": [
    "# This prints the maximum amount of injuries\n",
    "yearly_data_max = np.max(yearly_data['Palestinians Injuries'])\n",
    "yearly_data_max"
   ]
  },
  {
   "cell_type": "code",
   "execution_count": 27,
   "id": "bee5132f",
   "metadata": {},
   "outputs": [
    {
     "data": {
      "text/plain": [
       "Total Incidents          840.0\n",
       "Palestinians Injuries    781.0\n",
       "Palestinians Killed       51.0\n",
       "Israelis Injuries          0.0\n",
       "Israelis Killed            8.0\n",
       "Name: (DECEMBER, 2000), dtype: float64"
      ]
     },
     "execution_count": 27,
     "metadata": {},
     "output_type": "execute_result"
    }
   ],
   "source": [
    "july_data_2001 = monthly_yearly_data.loc[(\"DECEMBER\",2000)]\n",
    "july_data_2001"
   ]
  },
  {
   "cell_type": "markdown",
   "id": "ee278338",
   "metadata": {},
   "source": [
    "DATA VISUALIZATION:"
   ]
  },
  {
   "cell_type": "markdown",
   "id": "cb066ea3",
   "metadata": {},
   "source": [
    "1) INJURIES FOR BOTH SIDES:"
   ]
  },
  {
   "cell_type": "code",
   "execution_count": 28,
   "id": "06fb9fdf",
   "metadata": {},
   "outputs": [
    {
     "data": {
      "image/png": "[encoded data removed]",
      "text/plain": [
       "<Figure size 640x480 with 1 Axes>"
      ]
     },
     "metadata": {},
     "output_type": "display_data"
    }
   ],
   "source": [
    "plt.scatter(monthly_data.index, monthly_data['Palestinians Injuries'],color='Red',label='Palestinians Injuries')\n",
    "plt.scatter(monthly_data.index, monthly_data['Israelis Injuries'], color='Blue',label='Israelis Injuries')\n",
    "plt.xlabel('Months', fontsize = 15)\n",
    "plt.ylabel('Injuries', fontsize = 15)\n",
    "plt.title('Monthly Injuries')\n",
    "# The below code is used because the month names earlier were overlapping.\n",
    "plt.xticks(rotation=45, ha='right')  # Adjust the rotation angle as needed\n",
    "plt.legend()\n",
    "plt.show()"
   ]
  },
  {
   "cell_type": "code",
   "execution_count": 29,
   "id": "72c8fc9d",
   "metadata": {
    "scrolled": true
   },
   "outputs": [
    {
     "data": {
      "image/png": "[encoded data removed]",
      "text/plain": [
       "<Figure size 640x480 with 1 Axes>"
      ]
     },
     "metadata": {},
     "output_type": "display_data"
    }
   ],
   "source": [
    "plt.scatter(yearly_data.index, yearly_data['Palestinians Injuries'],color='magenta',label='Palestinians Injuries')\n",
    "plt.scatter(yearly_data.index, yearly_data['Israelis Injuries'], color='yellow',label='Israelis Injuries')\n",
    "plt.xlabel('yearly', fontsize = 15)\n",
    "plt.ylabel('Injuries', fontsize = 15)\n",
    "plt.title('yearly Injuries')\n",
    "# The below code is used because the month names earlier were overlapping.\n",
    "plt.xticks(rotation=45, ha='right')  # Adjust the rotation angle as needed\n",
    "plt.legend()\n",
    "plt.show()"
   ]
  },
  {
   "cell_type": "markdown",
   "id": "0687364b",
   "metadata": {},
   "source": [
    "2) DEATHS ON BOTH SIDES:"
   ]
  },
  {
   "cell_type": "code",
   "execution_count": 30,
   "id": "f5f5e0a5",
   "metadata": {
    "scrolled": false
   },
   "outputs": [
    {
     "data": {
      "image/png": "[encoded data removed]",
      "text/plain": [
       "<Figure size 640x480 with 1 Axes>"
      ]
     },
     "metadata": {},
     "output_type": "display_data"
    }
   ],
   "source": [
    "plt.scatter(monthly_data.index, monthly_data['Palestinians Killed'],color='Red',label='Palestinians Deaths')\n",
    "plt.scatter(monthly_data.index, monthly_data['Israelis Killed'], color='Blue',label='Israelis Deaths')\n",
    "plt.xlabel('Months', fontsize = 15)\n",
    "plt.ylabel('Deaths', fontsize = 15)\n",
    "plt.title('Monthly Deaths')\n",
    "# The below code is used because the month names earlier were overlapping.\n",
    "plt.xticks(rotation=45, ha='right')  # Adjust the rotation angle as needed\n",
    "plt.legend()\n",
    "plt.show()"
   ]
  },
  {
   "cell_type": "markdown",
   "id": "ccd9879a",
   "metadata": {},
   "source": [
    "The below graph depicts the yearly deaths of the israel palestine conflict. As we can tell from the graph that the figures between 2000 and 2010 are much higher than the rest fo the years. This was because of the 2nd intifida that took place during this time period. There is also a high point of deaths somewhere around 2014. 2014 was the year when gaza war started. It has been one of the most lethal years during the war. "
   ]
  },
  {
   "cell_type": "code",
   "execution_count": 31,
   "id": "959550ba",
   "metadata": {
    "scrolled": false
   },
   "outputs": [
    {
     "data": {
      "image/png": "[encoded data removed]",
      "text/plain": [
       "<Figure size 640x480 with 1 Axes>"
      ]
     },
     "metadata": {},
     "output_type": "display_data"
    }
   ],
   "source": [
    "plt.scatter(yearly_data.index, yearly_data['Palestinians Killed'], color='Red',label='Palestinians Deaths')\n",
    "plt.scatter(yearly_data.index, yearly_data['Israelis Killed'], color='Blue',label='Israelis Deaths')\n",
    "plt.xlabel('Years', fontsize = 15)\n",
    "plt.ylabel('Deaths', fontsize = 15)\n",
    "plt.title('Yearly Deaths')\n",
    "# The below code is used because the month names earlier were overlapping.\n",
    "plt.xticks(rotation=45, ha='right')  # Adjust the rotation angle as needed\n",
    "plt.legend()\n",
    "plt.show()"
   ]
  },
  {
   "cell_type": "markdown",
   "id": "e5dfe9b5",
   "metadata": {},
   "source": [
    "3)MONTHLY YEARLY DATA:"
   ]
  },
  {
   "cell_type": "code",
   "execution_count": 32,
   "id": "d87dc796",
   "metadata": {},
   "outputs": [
    {
     "data": {
      "image/png": "[encoded data removed]",
      "text/plain": [
       "<Figure size 640x480 with 1 Axes>"
      ]
     },
     "metadata": {},
     "output_type": "display_data"
    }
   ],
   "source": [
    "plt.scatter(monthly_yearly_data.index.get_level_values('Month'),monthly_yearly_data['Palestinians Injuries'],color='Orange',label='Palestinian Injuries')\n",
    "plt.scatter(monthly_yearly_data.index.get_level_values('Month'),monthly_yearly_data['Israelis Injuries'],color='Blue',label='Israeli Injuries')\n",
    "plt.xlabel('Month',fontsize=15)\n",
    "plt.ylabel('Injuries',fontsize=15)\n",
    "\n",
    "plt.title('Monthly Injuries')\n",
    "plt.xticks(rotation=45, ha='right')  # Adjust the rotation angle as needed\n",
    "plt.legend()\n",
    "\n",
    "plt.show()"
   ]
  },
  {
   "cell_type": "code",
   "execution_count": 33,
   "id": "449bfab8",
   "metadata": {},
   "outputs": [
    {
     "data": {
      "image/png": "[encoded data removed]",
      "text/plain": [
       "<Figure size 640x480 with 1 Axes>"
      ]
     },
     "metadata": {},
     "output_type": "display_data"
    }
   ],
   "source": [
    "# Now we will try to print specific data\n",
    "\n",
    "desired_year = 2014\n",
    "desired_months = ['JUNE', 'JULY', 'AUGUST', 'SEPTEMBER']\n",
    "\n",
    "filtered_data = monthly_yearly_data.loc[(monthly_yearly_data.index.get_level_values('Year') == desired_year) & (monthly_yearly_data.index.get_level_values('Month').isin(desired_months))]\n",
    "\n",
    "plt.scatter(filtered_data.index.get_level_values('Month'), filtered_data['Israelis Injuries'], label='Israelis Injuries', color='red')\n",
    "plt.scatter(filtered_data.index.get_level_values('Month'), filtered_data['Palestinians Injuries'], label='Palestinians Injuries', color='blue')\n",
    "\n",
    "plt.xlabel('Month', fontsize=15)\n",
    "plt.ylabel('Injuries', fontsize=15)\n",
    "plt.title(f'Scatter Plot for {desired_year} - Selected Months', fontsize=18)\n",
    "\n",
    "# plt.yscale is used to change the scale of the axis if they are too vague. You can use log, linear or even logit(logit only for values between 0 and 1).\n",
    "plt.yscale('log')\n",
    "\n",
    "plt.legend()\n",
    "plt.show()"
   ]
  },
  {
   "cell_type": "markdown",
   "id": "164729cd",
   "metadata": {},
   "source": [
    "BAR CHARTS:"
   ]
  },
  {
   "cell_type": "code",
   "execution_count": 34,
   "id": "980692c1",
   "metadata": {},
   "outputs": [
    {
     "data": {
      "image/png": "[encoded data removed]",
      "text/plain": [
       "<Figure size 640x480 with 1 Axes>"
      ]
     },
     "metadata": {},
     "output_type": "display_data"
    }
   ],
   "source": [
    "plt.bar(monthly_yearly_data.index.get_level_values('Year'), monthly_yearly_data['Palestinians Injuries'], color = 'Blue', label='Palestinian Injuries')\n",
    "plt.bar(monthly_yearly_data.index.get_level_values('Year'), monthly_yearly_data['Israelis Injuries'], color='Red', label='Israeli Injuries')\n",
    "\n",
    "plt.xlabel('Year', fontsize=15)\n",
    "plt.ylabel('Injuries', fontsize=15)\n",
    "plt.title('Injuries per year')\n",
    "plt.yscale('log')\n",
    "\n",
    "plt.legend()\n",
    "plt.show()"
   ]
  }
 ],
 "metadata": {
  "kernelspec": {
   "display_name": "Python 3 (ipykernel)",
   "language": "python",
   "name": "python3"
  },
  "language_info": {
   "codemirror_mode": {
    "name": "ipython",
    "version": 3
   },
   "file_extension": ".py",
   "mimetype": "text/x-python",
   "name": "python",
   "nbconvert_exporter": "python",
   "pygments_lexer": "ipython3",
   "version": "3.11.3"
  }
 },
 "nbformat": 4,
 "nbformat_minor": 5
}
